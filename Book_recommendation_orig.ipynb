{
  "nbformat": 4,
  "nbformat_minor": 0,
  "metadata": {
    "colab": {
      "provenance": []
    },
    "kernelspec": {
      "name": "python3",
      "display_name": "Python 3"
    },
    "language_info": {
      "name": "python"
    }
  },
  "cells": [
    {
      "cell_type": "markdown",
      "source": [
        "# **Book Recommendation System Using Machine Learning**"
      ],
      "metadata": {
        "id": "Y0kJ_yQQEYcM"
      }
    },
    {
      "cell_type": "markdown",
      "source": [
        "This project involves building a Book Recommendation System using Machine Learning techniques with Python.\n",
        "Used **feature extraction** to analyze the attributes of the books and applied **cosine similarity to measure the similarity between books based on their features.** This approach helps to recommend books that are closely related to the user's preferences."
      ],
      "metadata": {
        "id": "BVtXaQDAsGaB"
      }
    },
    {
      "cell_type": "markdown",
      "source": [
        "## **Overview of the dataset**"
      ],
      "metadata": {
        "id": "jA-VDJZ6sY4Z"
      }
    },
    {
      "cell_type": "markdown",
      "source": [
        "The dataset consists of 6237 entries with the following 10 features:\n",
        "\n",
        "*   Title: The name of the book.\n",
        "*   Author: The writers associated with the book.\n",
        "*   Edition: Publication dates and book formats.\n",
        "*   Reviews: Reader reviews of the book.\n",
        "*   Ratings: Readers ratings of the book.\n",
        "*   Synopsis: A brief summary of the book.\n",
        "*   Genre: The genre of the movie (e.g., Drama, Comedy, Action).\n",
        "*   BookCategory: Specific categories the book might fall into.\n",
        "*   Price: The cost associated with purchasing the book.\n",
        "*   Index: A unique identifier for each book entry.\n",
        "\n",
        "\n",
        "\n",
        "\n",
        "\n",
        "\n",
        "\n",
        "\n",
        "\n",
        "\n",
        "\n",
        "\n",
        "\n",
        "\n",
        "\n",
        "\n"
      ],
      "metadata": {
        "id": "4bdTUbJcqvgR"
      }
    },
    {
      "cell_type": "code",
      "execution_count": 1,
      "metadata": {
        "id": "Q8dwr1EtEPhH"
      },
      "outputs": [],
      "source": [
        "#Import packages\n",
        "import numpy as np\n",
        "import pandas as pd\n",
        "import difflib\n",
        "from sklearn.feature_extraction.text import TfidfVectorizer\n",
        "from sklearn.metrics.pairwise import cosine_similarity"
      ]
    },
    {
      "cell_type": "markdown",
      "source": [
        "## 1. Given data"
      ],
      "metadata": {
        "id": "2tjPTDB6-uMe"
      }
    },
    {
      "cell_type": "code",
      "source": [
        "# loading the data from the csv file to apandas dataframe\n",
        "book_data = pd.read_csv('/content/Book.csv')\n",
        "\n",
        "book_data['index'] = range(0, 6237)"
      ],
      "metadata": {
        "id": "EpkWiKeVEwE3"
      },
      "execution_count": 2,
      "outputs": []
    },
    {
      "cell_type": "code",
      "source": [
        "# printing the first 5 rows of the dataframe\n",
        "book_data.head()"
      ],
      "metadata": {
        "colab": {
          "base_uri": "https://localhost:8080/",
          "height": 293
        },
        "id": "q9h_j6g0FS_O",
        "outputId": "d8e8af36-e2fa-4e29-88d9-1bdb6fe86ba8"
      },
      "execution_count": 3,
      "outputs": [
        {
          "output_type": "execute_result",
          "data": {
            "text/plain": [
              "                                        Title           Author  \\\n",
              "0         The Prisoner's Gold (The Hunters 3)   Chris Kuzneski   \n",
              "1          Guru Dutt: A Tragedy in Three Acts     Arun Khopkar   \n",
              "2                Leviathan (Penguin Classics)    Thomas Hobbes   \n",
              "3          A Pocket Full of Rye (Miss Marple)  Agatha Christie   \n",
              "4  LIFE 70 Years of Extraordinary Photography  Editors of Life   \n",
              "\n",
              "                   Edition             Reviews              Ratings  \\\n",
              "0  Paperback,– 10 Mar 2016  4.0 out of 5 stars   8 customer reviews   \n",
              "1   Paperback,– 7 Nov 2012  3.9 out of 5 stars  14 customer reviews   \n",
              "2  Paperback,– 25 Feb 1982  4.8 out of 5 stars   6 customer reviews   \n",
              "3   Paperback,– 5 Oct 2017  4.1 out of 5 stars  13 customer reviews   \n",
              "4  Hardcover,– 10 Oct 2006  5.0 out of 5 stars    1 customer review   \n",
              "\n",
              "                                            Synopsis  \\\n",
              "0  THE HUNTERS return in their third brilliant no...   \n",
              "1  A layered portrait of a troubled genius for wh...   \n",
              "2  \"During the time men live without a common Pow...   \n",
              "3  A handful of grain is found in the pocket of a...   \n",
              "4  For seven decades, \"Life\" has been thrilling t...   \n",
              "\n",
              "                          Genre                          BookCategory   Price  \\\n",
              "0    Action & Adventure (Books)                    Action & Adventure  220.00   \n",
              "1    Cinema & Broadcast (Books)  Biographies, Diaries & True Accounts  202.93   \n",
              "2       International Relations                                Humour  299.00   \n",
              "3  Contemporary Fiction (Books)             Crime, Thriller & Mystery  180.00   \n",
              "4         Photography Textbooks              Arts, Film & Photography  965.62   \n",
              "\n",
              "   index  \n",
              "0      0  \n",
              "1      1  \n",
              "2      2  \n",
              "3      3  \n",
              "4      4  "
            ],
            "text/html": [
              "\n",
              "  <div id=\"df-0f1e86fe-e8c2-463c-b1b4-f340e328f97d\" class=\"colab-df-container\">\n",
              "    <div>\n",
              "<style scoped>\n",
              "    .dataframe tbody tr th:only-of-type {\n",
              "        vertical-align: middle;\n",
              "    }\n",
              "\n",
              "    .dataframe tbody tr th {\n",
              "        vertical-align: top;\n",
              "    }\n",
              "\n",
              "    .dataframe thead th {\n",
              "        text-align: right;\n",
              "    }\n",
              "</style>\n",
              "<table border=\"1\" class=\"dataframe\">\n",
              "  <thead>\n",
              "    <tr style=\"text-align: right;\">\n",
              "      <th></th>\n",
              "      <th>Title</th>\n",
              "      <th>Author</th>\n",
              "      <th>Edition</th>\n",
              "      <th>Reviews</th>\n",
              "      <th>Ratings</th>\n",
              "      <th>Synopsis</th>\n",
              "      <th>Genre</th>\n",
              "      <th>BookCategory</th>\n",
              "      <th>Price</th>\n",
              "      <th>index</th>\n",
              "    </tr>\n",
              "  </thead>\n",
              "  <tbody>\n",
              "    <tr>\n",
              "      <th>0</th>\n",
              "      <td>The Prisoner's Gold (The Hunters 3)</td>\n",
              "      <td>Chris Kuzneski</td>\n",
              "      <td>Paperback,– 10 Mar 2016</td>\n",
              "      <td>4.0 out of 5 stars</td>\n",
              "      <td>8 customer reviews</td>\n",
              "      <td>THE HUNTERS return in their third brilliant no...</td>\n",
              "      <td>Action &amp; Adventure (Books)</td>\n",
              "      <td>Action &amp; Adventure</td>\n",
              "      <td>220.00</td>\n",
              "      <td>0</td>\n",
              "    </tr>\n",
              "    <tr>\n",
              "      <th>1</th>\n",
              "      <td>Guru Dutt: A Tragedy in Three Acts</td>\n",
              "      <td>Arun Khopkar</td>\n",
              "      <td>Paperback,– 7 Nov 2012</td>\n",
              "      <td>3.9 out of 5 stars</td>\n",
              "      <td>14 customer reviews</td>\n",
              "      <td>A layered portrait of a troubled genius for wh...</td>\n",
              "      <td>Cinema &amp; Broadcast (Books)</td>\n",
              "      <td>Biographies, Diaries &amp; True Accounts</td>\n",
              "      <td>202.93</td>\n",
              "      <td>1</td>\n",
              "    </tr>\n",
              "    <tr>\n",
              "      <th>2</th>\n",
              "      <td>Leviathan (Penguin Classics)</td>\n",
              "      <td>Thomas Hobbes</td>\n",
              "      <td>Paperback,– 25 Feb 1982</td>\n",
              "      <td>4.8 out of 5 stars</td>\n",
              "      <td>6 customer reviews</td>\n",
              "      <td>\"During the time men live without a common Pow...</td>\n",
              "      <td>International Relations</td>\n",
              "      <td>Humour</td>\n",
              "      <td>299.00</td>\n",
              "      <td>2</td>\n",
              "    </tr>\n",
              "    <tr>\n",
              "      <th>3</th>\n",
              "      <td>A Pocket Full of Rye (Miss Marple)</td>\n",
              "      <td>Agatha Christie</td>\n",
              "      <td>Paperback,– 5 Oct 2017</td>\n",
              "      <td>4.1 out of 5 stars</td>\n",
              "      <td>13 customer reviews</td>\n",
              "      <td>A handful of grain is found in the pocket of a...</td>\n",
              "      <td>Contemporary Fiction (Books)</td>\n",
              "      <td>Crime, Thriller &amp; Mystery</td>\n",
              "      <td>180.00</td>\n",
              "      <td>3</td>\n",
              "    </tr>\n",
              "    <tr>\n",
              "      <th>4</th>\n",
              "      <td>LIFE 70 Years of Extraordinary Photography</td>\n",
              "      <td>Editors of Life</td>\n",
              "      <td>Hardcover,– 10 Oct 2006</td>\n",
              "      <td>5.0 out of 5 stars</td>\n",
              "      <td>1 customer review</td>\n",
              "      <td>For seven decades, \"Life\" has been thrilling t...</td>\n",
              "      <td>Photography Textbooks</td>\n",
              "      <td>Arts, Film &amp; Photography</td>\n",
              "      <td>965.62</td>\n",
              "      <td>4</td>\n",
              "    </tr>\n",
              "  </tbody>\n",
              "</table>\n",
              "</div>\n",
              "    <div class=\"colab-df-buttons\">\n",
              "\n",
              "  <div class=\"colab-df-container\">\n",
              "    <button class=\"colab-df-convert\" onclick=\"convertToInteractive('df-0f1e86fe-e8c2-463c-b1b4-f340e328f97d')\"\n",
              "            title=\"Convert this dataframe to an interactive table.\"\n",
              "            style=\"display:none;\">\n",
              "\n",
              "  <svg xmlns=\"http://www.w3.org/2000/svg\" height=\"24px\" viewBox=\"0 -960 960 960\">\n",
              "    <path d=\"M120-120v-720h720v720H120Zm60-500h600v-160H180v160Zm220 220h160v-160H400v160Zm0 220h160v-160H400v160ZM180-400h160v-160H180v160Zm440 0h160v-160H620v160ZM180-180h160v-160H180v160Zm440 0h160v-160H620v160Z\"/>\n",
              "  </svg>\n",
              "    </button>\n",
              "\n",
              "  <style>\n",
              "    .colab-df-container {\n",
              "      display:flex;\n",
              "      gap: 12px;\n",
              "    }\n",
              "\n",
              "    .colab-df-convert {\n",
              "      background-color: #E8F0FE;\n",
              "      border: none;\n",
              "      border-radius: 50%;\n",
              "      cursor: pointer;\n",
              "      display: none;\n",
              "      fill: #1967D2;\n",
              "      height: 32px;\n",
              "      padding: 0 0 0 0;\n",
              "      width: 32px;\n",
              "    }\n",
              "\n",
              "    .colab-df-convert:hover {\n",
              "      background-color: #E2EBFA;\n",
              "      box-shadow: 0px 1px 2px rgba(60, 64, 67, 0.3), 0px 1px 3px 1px rgba(60, 64, 67, 0.15);\n",
              "      fill: #174EA6;\n",
              "    }\n",
              "\n",
              "    .colab-df-buttons div {\n",
              "      margin-bottom: 4px;\n",
              "    }\n",
              "\n",
              "    [theme=dark] .colab-df-convert {\n",
              "      background-color: #3B4455;\n",
              "      fill: #D2E3FC;\n",
              "    }\n",
              "\n",
              "    [theme=dark] .colab-df-convert:hover {\n",
              "      background-color: #434B5C;\n",
              "      box-shadow: 0px 1px 3px 1px rgba(0, 0, 0, 0.15);\n",
              "      filter: drop-shadow(0px 1px 2px rgba(0, 0, 0, 0.3));\n",
              "      fill: #FFFFFF;\n",
              "    }\n",
              "  </style>\n",
              "\n",
              "    <script>\n",
              "      const buttonEl =\n",
              "        document.querySelector('#df-0f1e86fe-e8c2-463c-b1b4-f340e328f97d button.colab-df-convert');\n",
              "      buttonEl.style.display =\n",
              "        google.colab.kernel.accessAllowed ? 'block' : 'none';\n",
              "\n",
              "      async function convertToInteractive(key) {\n",
              "        const element = document.querySelector('#df-0f1e86fe-e8c2-463c-b1b4-f340e328f97d');\n",
              "        const dataTable =\n",
              "          await google.colab.kernel.invokeFunction('convertToInteractive',\n",
              "                                                    [key], {});\n",
              "        if (!dataTable) return;\n",
              "\n",
              "        const docLinkHtml = 'Like what you see? Visit the ' +\n",
              "          '<a target=\"_blank\" href=https://colab.research.google.com/notebooks/data_table.ipynb>data table notebook</a>'\n",
              "          + ' to learn more about interactive tables.';\n",
              "        element.innerHTML = '';\n",
              "        dataTable['output_type'] = 'display_data';\n",
              "        await google.colab.output.renderOutput(dataTable, element);\n",
              "        const docLink = document.createElement('div');\n",
              "        docLink.innerHTML = docLinkHtml;\n",
              "        element.appendChild(docLink);\n",
              "      }\n",
              "    </script>\n",
              "  </div>\n",
              "\n",
              "\n",
              "<div id=\"df-80821520-69e3-459f-b7c4-95b065d8cf03\">\n",
              "  <button class=\"colab-df-quickchart\" onclick=\"quickchart('df-80821520-69e3-459f-b7c4-95b065d8cf03')\"\n",
              "            title=\"Suggest charts\"\n",
              "            style=\"display:none;\">\n",
              "\n",
              "<svg xmlns=\"http://www.w3.org/2000/svg\" height=\"24px\"viewBox=\"0 0 24 24\"\n",
              "     width=\"24px\">\n",
              "    <g>\n",
              "        <path d=\"M19 3H5c-1.1 0-2 .9-2 2v14c0 1.1.9 2 2 2h14c1.1 0 2-.9 2-2V5c0-1.1-.9-2-2-2zM9 17H7v-7h2v7zm4 0h-2V7h2v10zm4 0h-2v-4h2v4z\"/>\n",
              "    </g>\n",
              "</svg>\n",
              "  </button>\n",
              "\n",
              "<style>\n",
              "  .colab-df-quickchart {\n",
              "      --bg-color: #E8F0FE;\n",
              "      --fill-color: #1967D2;\n",
              "      --hover-bg-color: #E2EBFA;\n",
              "      --hover-fill-color: #174EA6;\n",
              "      --disabled-fill-color: #AAA;\n",
              "      --disabled-bg-color: #DDD;\n",
              "  }\n",
              "\n",
              "  [theme=dark] .colab-df-quickchart {\n",
              "      --bg-color: #3B4455;\n",
              "      --fill-color: #D2E3FC;\n",
              "      --hover-bg-color: #434B5C;\n",
              "      --hover-fill-color: #FFFFFF;\n",
              "      --disabled-bg-color: #3B4455;\n",
              "      --disabled-fill-color: #666;\n",
              "  }\n",
              "\n",
              "  .colab-df-quickchart {\n",
              "    background-color: var(--bg-color);\n",
              "    border: none;\n",
              "    border-radius: 50%;\n",
              "    cursor: pointer;\n",
              "    display: none;\n",
              "    fill: var(--fill-color);\n",
              "    height: 32px;\n",
              "    padding: 0;\n",
              "    width: 32px;\n",
              "  }\n",
              "\n",
              "  .colab-df-quickchart:hover {\n",
              "    background-color: var(--hover-bg-color);\n",
              "    box-shadow: 0 1px 2px rgba(60, 64, 67, 0.3), 0 1px 3px 1px rgba(60, 64, 67, 0.15);\n",
              "    fill: var(--button-hover-fill-color);\n",
              "  }\n",
              "\n",
              "  .colab-df-quickchart-complete:disabled,\n",
              "  .colab-df-quickchart-complete:disabled:hover {\n",
              "    background-color: var(--disabled-bg-color);\n",
              "    fill: var(--disabled-fill-color);\n",
              "    box-shadow: none;\n",
              "  }\n",
              "\n",
              "  .colab-df-spinner {\n",
              "    border: 2px solid var(--fill-color);\n",
              "    border-color: transparent;\n",
              "    border-bottom-color: var(--fill-color);\n",
              "    animation:\n",
              "      spin 1s steps(1) infinite;\n",
              "  }\n",
              "\n",
              "  @keyframes spin {\n",
              "    0% {\n",
              "      border-color: transparent;\n",
              "      border-bottom-color: var(--fill-color);\n",
              "      border-left-color: var(--fill-color);\n",
              "    }\n",
              "    20% {\n",
              "      border-color: transparent;\n",
              "      border-left-color: var(--fill-color);\n",
              "      border-top-color: var(--fill-color);\n",
              "    }\n",
              "    30% {\n",
              "      border-color: transparent;\n",
              "      border-left-color: var(--fill-color);\n",
              "      border-top-color: var(--fill-color);\n",
              "      border-right-color: var(--fill-color);\n",
              "    }\n",
              "    40% {\n",
              "      border-color: transparent;\n",
              "      border-right-color: var(--fill-color);\n",
              "      border-top-color: var(--fill-color);\n",
              "    }\n",
              "    60% {\n",
              "      border-color: transparent;\n",
              "      border-right-color: var(--fill-color);\n",
              "    }\n",
              "    80% {\n",
              "      border-color: transparent;\n",
              "      border-right-color: var(--fill-color);\n",
              "      border-bottom-color: var(--fill-color);\n",
              "    }\n",
              "    90% {\n",
              "      border-color: transparent;\n",
              "      border-bottom-color: var(--fill-color);\n",
              "    }\n",
              "  }\n",
              "</style>\n",
              "\n",
              "  <script>\n",
              "    async function quickchart(key) {\n",
              "      const quickchartButtonEl =\n",
              "        document.querySelector('#' + key + ' button');\n",
              "      quickchartButtonEl.disabled = true;  // To prevent multiple clicks.\n",
              "      quickchartButtonEl.classList.add('colab-df-spinner');\n",
              "      try {\n",
              "        const charts = await google.colab.kernel.invokeFunction(\n",
              "            'suggestCharts', [key], {});\n",
              "      } catch (error) {\n",
              "        console.error('Error during call to suggestCharts:', error);\n",
              "      }\n",
              "      quickchartButtonEl.classList.remove('colab-df-spinner');\n",
              "      quickchartButtonEl.classList.add('colab-df-quickchart-complete');\n",
              "    }\n",
              "    (() => {\n",
              "      let quickchartButtonEl =\n",
              "        document.querySelector('#df-80821520-69e3-459f-b7c4-95b065d8cf03 button');\n",
              "      quickchartButtonEl.style.display =\n",
              "        google.colab.kernel.accessAllowed ? 'block' : 'none';\n",
              "    })();\n",
              "  </script>\n",
              "</div>\n",
              "\n",
              "    </div>\n",
              "  </div>\n"
            ],
            "application/vnd.google.colaboratory.intrinsic+json": {
              "type": "dataframe",
              "variable_name": "book_data",
              "summary": "{\n  \"name\": \"book_data\",\n  \"rows\": 6237,\n  \"fields\": [\n    {\n      \"column\": \"Title\",\n      \"properties\": {\n        \"dtype\": \"string\",\n        \"num_unique_values\": 5568,\n        \"samples\": [\n          \"Then She Was Gone\",\n          \"The Best Of Samaithu Paar\",\n          \"A Hero Born: Legends of the Condor Heroes Vol. 1\"\n        ],\n        \"semantic_type\": \"\",\n        \"description\": \"\"\n      }\n    },\n    {\n      \"column\": \"Author\",\n      \"properties\": {\n        \"dtype\": \"string\",\n        \"num_unique_values\": 3679,\n        \"samples\": [\n          \"Ahmed Faiyaz\",\n          \"Vineet Bajpai\",\n          \"Anirban Chatterjee\"\n        ],\n        \"semantic_type\": \"\",\n        \"description\": \"\"\n      }\n    },\n    {\n      \"column\": \"Edition\",\n      \"properties\": {\n        \"dtype\": \"string\",\n        \"num_unique_values\": 3370,\n        \"samples\": [\n          \"Mass Market Paperback,\\u2013 1 Nov 1986\",\n          \"Paperback,\\u2013 5 Apr 2006\",\n          \"Hardcover,\\u2013 20 Oct 2018\"\n        ],\n        \"semantic_type\": \"\",\n        \"description\": \"\"\n      }\n    },\n    {\n      \"column\": \"Reviews\",\n      \"properties\": {\n        \"dtype\": \"category\",\n        \"num_unique_values\": 36,\n        \"samples\": [\n          \"2.1 out of 5 stars\",\n          \"3.1 out of 5 stars\",\n          \"3.6 out of 5 stars\"\n        ],\n        \"semantic_type\": \"\",\n        \"description\": \"\"\n      }\n    },\n    {\n      \"column\": \"Ratings\",\n      \"properties\": {\n        \"dtype\": \"category\",\n        \"num_unique_values\": 342,\n        \"samples\": [\n          \"894 customer reviews\",\n          \"138 customer reviews\",\n          \"38 customer reviews\"\n        ],\n        \"semantic_type\": \"\",\n        \"description\": \"\"\n      }\n    },\n    {\n      \"column\": \"Synopsis\",\n      \"properties\": {\n        \"dtype\": \"string\",\n        \"num_unique_values\": 5549,\n        \"samples\": [\n          \"A haunting study of guilt and lost love\\n\\nIn a fit of drunken anger, Michael Henchard sells his wife and baby daughter for five guineas at a country fair. Over the course of the following years, he manages to establish himself as a respected and prosperous pillar of the community of Casterbridge, but behind his success there always lurk the shameful secret of his past and a personality prone to self-destructive pride and temper. Subtitled \\\"A Story of a Man of Character,\\\" Hardy's powerful and sympathetic study of the heroic but deeply flawed Henchard is also an intensely dramatic work, tragically played out against the vivid backdrop of a close-knit Dorsetshire town.\\n\\nThis edition includes an introduction, chronology of Hardy's life and works, the illustrations for the original serial issue, place names, maps, glossary, full explanatory notes as well as Hardy's prefaces to the 1895 and 1912 editions.\\n\\nFor more than seventy years, Penguin has been the leading publisher of classic literature in the English-speaking world. With more than 1,700 titles, Penguin Classics represents a global bookshelf of the best works throughout history and across genres and disciplines. Readers trust the series to provide authoritative texts enhanced by introductions and notes by distinguished scholars and contemporary authors, as well as up-to-date translations by award-winning translators.\",\n          \"Build real-world Artificial Intelligence applications with Python to intelligently interact with the world around you About This Book * Step into the amazing world of intelligent apps using this comprehensive guide * Enter the world of Artificial Intelligence, explore it, and create your own applications * Work through simple yet insightful examples that will get you up and running with Artificial Intelligence in no time Who This Book Is For This book is for Python developers who want to build real-world Artificial Intelligence applications. This book is friendly to Python beginners, but being familiar with Python would be useful to play around with the code. It will also be useful for experienced Python programmers who are looking to use Artificial Intelligence techniques in their existing technology stacks. What You Will Learn * Realize different classification and regression techniques * Understand the concept of clustering and how to use it to automatically segment data * See how to build an intelligent recommender system * Understand logic programming and how to use it * Build automatic speech recognition systems * Understand the basics of heuristic search and genetic programming * Develop games using Artificial Intelligence * Learn how reinforcement learning works * Discover how to build intelligent applications centered on images, text, and time series data * See how to use deep learning algorithms and build applications based on it In Detail Artificial Intelligence is becoming increasingly relevant in the modern world where everything is driven by technology and data. It is used extensively across many fields such as search engines, image recognition, robotics, finance, and so on. We will explore various real-world scenarios in this book and you'll learn about various algorithms that can be used to build Artificial Intelligence applications. During the course of this book, you will find out how to make informed decisions about what algorithms to use in a given context. Starting from the basics of Artificial Intelligence, you will learn how to develop various building blocks using different data mining techniques. You will see how to implement different algorithms to get the best possible results, and will understand how to apply them to real-world scenarios. If you want to add an intelligence layer to any application that's based on images, text, stock market, or some other form of data, this exciting book on Artificial Intelligence will definitely be your guide! Style and approach This highly practical book will show you how to implement Artificial Intelligence. The book provides multiple examples enabling you to create smart applications to meet the needs of your organization. In every chapter, we explain an algorithm, implement it, and then build a smart application.\",\n          \"Baby, the sixteen-year-old daughter of the Diwan family's household help, has been raped and brutalized. Vansh Diwan, a criminal lawyer, finds himself torn between a shot at justice for the girl and a very powerful client. He cannot bring himself to proceed at the risk of all that he has secured for his family. His wife Priti, distraught and devastated at her husband's decision, turns to an old friend for help. Akash Hingorani, top criminal lawyer and best friend to Priti and Vansh, must step up. He is Baby's last chance. But things quickly unravel as Akash's probe into the rape suddenly turns into a murder investigation. A powerful legal thriller that moves breathlessly from crime scene to courtroom to homes to lay bare the difference between law and justice.\"\n        ],\n        \"semantic_type\": \"\",\n        \"description\": \"\"\n      }\n    },\n    {\n      \"column\": \"Genre\",\n      \"properties\": {\n        \"dtype\": \"category\",\n        \"num_unique_values\": 345,\n        \"samples\": [\n          \"Digital Media & Graphic Design (Books)\",\n          \"Political Freedom & Security (Books)\",\n          \"Interview Preparation\"\n        ],\n        \"semantic_type\": \"\",\n        \"description\": \"\"\n      }\n    },\n    {\n      \"column\": \"BookCategory\",\n      \"properties\": {\n        \"dtype\": \"category\",\n        \"num_unique_values\": 11,\n        \"samples\": [\n          \"Sports\",\n          \"Action & Adventure\",\n          \"Comics & Mangas\"\n        ],\n        \"semantic_type\": \"\",\n        \"description\": \"\"\n      }\n    },\n    {\n      \"column\": \"Price\",\n      \"properties\": {\n        \"dtype\": \"number\",\n        \"std\": 690.1106565774895,\n        \"min\": 25.0,\n        \"max\": 14100.0,\n        \"num_unique_values\": 1614,\n        \"samples\": [\n          720.0,\n          319.82,\n          351.0\n        ],\n        \"semantic_type\": \"\",\n        \"description\": \"\"\n      }\n    },\n    {\n      \"column\": \"index\",\n      \"properties\": {\n        \"dtype\": \"number\",\n        \"std\": 1800,\n        \"min\": 0,\n        \"max\": 6236,\n        \"num_unique_values\": 6237,\n        \"samples\": [\n          599,\n          1844,\n          5958\n        ],\n        \"semantic_type\": \"\",\n        \"description\": \"\"\n      }\n    }\n  ]\n}"
            }
          },
          "metadata": {},
          "execution_count": 3
        }
      ]
    },
    {
      "cell_type": "code",
      "source": [
        "# number of rows and columns in the data frame\n",
        "\n",
        "book_data.shape"
      ],
      "metadata": {
        "colab": {
          "base_uri": "https://localhost:8080/"
        },
        "id": "5gJR8qJJFWNJ",
        "outputId": "aba25c53-8722-4521-ee8b-3e53aaea48b0"
      },
      "execution_count": 4,
      "outputs": [
        {
          "output_type": "execute_result",
          "data": {
            "text/plain": [
              "(6237, 10)"
            ]
          },
          "metadata": {},
          "execution_count": 4
        }
      ]
    },
    {
      "cell_type": "markdown",
      "source": [
        "## 2. Data preprocessing"
      ],
      "metadata": {
        "id": "lcuXbpDZ-3r2"
      }
    },
    {
      "cell_type": "code",
      "source": [
        " #selecting the relevant features for recommendation\n",
        "\n",
        "selected_features = ['Genre','BookCategory','Reviews','Ratings','Author','Title']\n",
        "print(selected_features)"
      ],
      "metadata": {
        "colab": {
          "base_uri": "https://localhost:8080/"
        },
        "id": "m_cc8p0HFYwv",
        "outputId": "43a0c5cf-dc85-4275-b648-2fef05dddc4d"
      },
      "execution_count": 5,
      "outputs": [
        {
          "output_type": "stream",
          "name": "stdout",
          "text": [
            "['Genre', 'BookCategory', 'Reviews', 'Ratings', 'Author', 'Title']\n"
          ]
        }
      ]
    },
    {
      "cell_type": "code",
      "source": [
        "# combining all the 5 selected features\n",
        "\n",
        "combined_features = book_data['Genre']+' '+book_data['BookCategory']+' '+book_data['Reviews']+' '+book_data['Author']+' '+book_data['Title']"
      ],
      "metadata": {
        "id": "SW0IyHTcFyev"
      },
      "execution_count": 6,
      "outputs": []
    },
    {
      "cell_type": "code",
      "source": [
        "print(combined_features)"
      ],
      "metadata": {
        "colab": {
          "base_uri": "https://localhost:8080/"
        },
        "id": "4F-1InGgGcRK",
        "outputId": "0b72263c-d0b8-4c18-993f-3d9216dce66c"
      },
      "execution_count": 7,
      "outputs": [
        {
          "output_type": "stream",
          "name": "stdout",
          "text": [
            "0       Action & Adventure (Books) Action & Adventure ...\n",
            "1       Cinema & Broadcast (Books) Biographies, Diarie...\n",
            "2       International Relations Humour 4.8 out of 5 st...\n",
            "3       Contemporary Fiction (Books) Crime, Thriller &...\n",
            "4       Photography Textbooks Arts, Film & Photography...\n",
            "                              ...                        \n",
            "6232    Anthropology (Books) Humour 5.0 out of 5 stars...\n",
            "6233    Contemporary Fiction (Books) Crime, Thriller &...\n",
            "6234    Romance (Books) Romance 3.8 out of 5 stars Jul...\n",
            "6235    Action & Adventure (Books) Action & Adventure ...\n",
            "6236    Action & Adventure (Books) Action & Adventure ...\n",
            "Length: 6237, dtype: object\n"
          ]
        }
      ]
    },
    {
      "cell_type": "code",
      "source": [
        "# converting the text data to feature vectors\n",
        "\n",
        "vectorizer = TfidfVectorizer()\n",
        "\n",
        "feature_vectors = vectorizer.fit_transform(combined_features)\n",
        "\n",
        "print(feature_vectors)"
      ],
      "metadata": {
        "colab": {
          "base_uri": "https://localhost:8080/"
        },
        "id": "NRNWwzUOGdrX",
        "outputId": "c7b20ecd-7f36-46b7-f3c8-3cda85f94118"
      },
      "execution_count": 8,
      "outputs": [
        {
          "output_type": "stream",
          "name": "stdout",
          "text": [
            "  (0, 320)\t0.2876182221875535\n",
            "  (0, 370)\t0.28612627654486994\n",
            "  (0, 1454)\t0.06212594444161257\n",
            "  (0, 7682)\t0.051197695545433894\n",
            "  (0, 7576)\t0.051197695545433894\n",
            "  (0, 10005)\t0.051197695545433894\n",
            "  (0, 2073)\t0.32798320899324057\n",
            "  (0, 5937)\t0.4161848887602325\n",
            "  (0, 10554)\t0.1866362531867486\n",
            "  (0, 8299)\t0.42760932436334437\n",
            "  (0, 4261)\t0.3599384712825303\n",
            "  (0, 4954)\t0.44233798352261017\n",
            "  (1, 1454)\t0.051234244716792006\n",
            "  (1, 7682)\t0.04222189756770298\n",
            "  (1, 7576)\t0.04222189756770298\n",
            "  (1, 10005)\t0.04222189756770298\n",
            "  (1, 2098)\t0.22511430759239295\n",
            "  (1, 1600)\t0.2266879766057271\n",
            "  (1, 1342)\t0.13055113674715593\n",
            "  (1, 2913)\t0.14024774310840107\n",
            "  (1, 10844)\t0.13770429260523812\n",
            "  (1, 301)\t0.1394955922491458\n",
            "  (1, 810)\t0.31840336522248014\n",
            "  (1, 5748)\t0.3819083670030653\n",
            "  (1, 4450)\t0.33552287148430066\n",
            "  :\t:\n",
            "  (6234, 1574)\t0.4234691756702787\n",
            "  (6235, 320)\t0.27408410482428236\n",
            "  (6235, 370)\t0.27266236393870397\n",
            "  (6235, 1454)\t0.05920255587123001\n",
            "  (6235, 7682)\t0.04878854491870802\n",
            "  (6235, 7576)\t0.04878854491870802\n",
            "  (6235, 10005)\t0.04878854491870802\n",
            "  (6235, 2086)\t0.3265852729386004\n",
            "  (6235, 535)\t0.4074878079394347\n",
            "  (6235, 4827)\t0.4215233976535554\n",
            "  (6235, 3993)\t0.44130545029345936\n",
            "  (6235, 5600)\t0.44130545029345936\n",
            "  (6236, 320)\t0.27158154715448074\n",
            "  (6236, 370)\t0.2701727876439439\n",
            "  (6236, 1454)\t0.058661999860649267\n",
            "  (6236, 7682)\t0.04834307527951442\n",
            "  (6236, 7576)\t0.04834307527951442\n",
            "  (6236, 10005)\t0.04834307527951442\n",
            "  (6236, 10554)\t0.08811500538814958\n",
            "  (6236, 3795)\t0.2770581146331355\n",
            "  (6236, 9138)\t0.3432047773243804\n",
            "  (6236, 5387)\t0.36456433132876104\n",
            "  (6236, 7644)\t0.376713643653973\n",
            "  (6236, 250)\t0.4176746279028431\n",
            "  (6236, 1777)\t0.4372760581473325\n"
          ]
        }
      ]
    },
    {
      "cell_type": "code",
      "source": [
        "# getting the similarity scores using cosine similarity\n",
        "\n",
        "similarity = cosine_similarity(feature_vectors)\n",
        "\n",
        "print(similarity)\n",
        "\n",
        "print(similarity.shape)"
      ],
      "metadata": {
        "colab": {
          "base_uri": "https://localhost:8080/"
        },
        "id": "MxM77wHDGsBA",
        "outputId": "cd555e9e-852b-4041-e6a9-7304b900d4c9"
      },
      "execution_count": 9,
      "outputs": [
        {
          "output_type": "stream",
          "name": "stdout",
          "text": [
            "[[1.         0.00966797 0.00920955 ... 0.02789677 0.16801905 0.18293038]\n",
            " [0.00966797 1.         0.00759497 ... 0.03495241 0.00921303 0.00912891]\n",
            " [0.00920955 0.00759497 1.         ... 0.0088167  0.00877619 0.00869606]\n",
            " ...\n",
            " [0.02789677 0.03495241 0.0088167  ... 1.         0.01069505 0.01846937]\n",
            " [0.16801905 0.00921303 0.00877619 ... 0.01069505 1.         0.15865084]\n",
            " [0.18293038 0.00912891 0.00869606 ... 0.01846937 0.15865084 1.        ]]\n",
            "(6237, 6237)\n"
          ]
        }
      ]
    },
    {
      "cell_type": "markdown",
      "source": [
        "## **Getting the book name from the user**"
      ],
      "metadata": {
        "id": "eS4eBT8QG3_B"
      }
    },
    {
      "cell_type": "code",
      "source": [
        "# getting the book name from the user\n",
        "\n",
        "book_name = input(' Enter your favourite book name : ')\n",
        "\n",
        "# creating a list with all the book names given in the dataset\n",
        "\n",
        "list_of_all_titles = book_data['Title'].tolist()\n",
        "\n",
        "\n",
        "# finding the close match for the book name given by the user\n",
        "\n",
        "find_close_match = difflib.get_close_matches(book_name, list_of_all_titles)\n",
        "\n",
        "\n",
        "close_match = find_close_match[0]\n",
        "\n",
        "\n",
        "# finding the index of the book with title\n",
        "\n",
        "index_of_the_book = book_data[book_data.Title == close_match]['index'].values[0]\n",
        "input_book_price = book_data[book_data.Title == close_match]['Price'].values[0]\n",
        "\n",
        "\n",
        "\n",
        "# getting a list of similar book\n",
        "\n",
        "similarity_score = list(enumerate(similarity[index_of_the_book]))\n",
        "\n",
        "\n",
        "len(similarity_score)\n",
        "\n",
        "# sorting the book based on their similarity score\n",
        "\n",
        "sorted_similar_book = sorted(similarity_score, key = lambda x:x[1], reverse = True)\n",
        "\n",
        "\n",
        "# print the name of similar book based on the index\n",
        "\n",
        "print('Movies suggested for you : \\n')\n",
        "\n",
        "i = 1\n",
        "\n",
        "for book in sorted_similar_book:\n",
        "  index = book[0]\n",
        "  title_from_index = book_data[book_data.index==index][['Title','Price']].values[0]\n",
        "  price_difference = abs(title_from_index[1] - input_book_price)\n",
        "  if (i < 30 and price_difference <= 0.2 * input_book_price):  # Check if within 20% price range\n",
        "    print(i, '.',title_from_index[0], \"- $\", title_from_index[1])\n",
        "    i += 1"
      ],
      "metadata": {
        "colab": {
          "base_uri": "https://localhost:8080/"
        },
        "id": "zhZH2hxXG02_",
        "outputId": "407c7e9e-bd6b-4cb1-9e64-1ef8005d57bc"
      },
      "execution_count": 10,
      "outputs": [
        {
          "output_type": "stream",
          "name": "stdout",
          "text": [
            " Enter your favourite book name : I love you\n",
            "Movies suggested for you : \n",
            "\n",
            "1 . P.S. I Love You - $ 206.0\n",
            "2 . The Gift - $ 232.0\n",
            "3 . Lyrebird - $ 207.0\n",
            "4 . Thanks for the Memories - $ 199.0\n",
            "5 . One Hundred Names - $ 229.0\n",
            "6 . The Last Love Letter - $ 247.0\n",
            "7 . Does Love Ever End?: An Inspirational Love Story - $ 220.0\n",
            "8 . Different Shades of Love: Some Relations Are Beyond Love - $ 185.0\n",
            "9 . Love . . .Not for Sale! - $ 175.0\n",
            "10 . Bared to You: Crossfire, Book - $ 194.0\n",
            "11 . Reflected in You: Crossfire Book - $ 229.0\n",
            "12 . Someone Exactly Like You - $ 175.0\n",
            "13 . The Collector - $ 238.0\n",
            "14 . You Belong To Me (The Baltimore Series Book 1) - $ 170.0\n",
            "15 . The Affair - $ 183.0\n",
            "16 . Portrait in Death - $ 224.0\n",
            "17 . Homeport - $ 224.0\n",
            "18 . Black Hills - $ 233.0\n",
            "19 . Sunset in Central Park (From Manhattan with Love) - $ 222.0\n",
            "20 . Fairytale - $ 209.0\n",
            "21 . Confessions of a Shopaholic - $ 247.0\n",
            "22 . See Me - $ 188.0\n",
            "23 . The Stars Shine Down - $ 180.0\n",
            "24 . The Lucky One - $ 205.0\n",
            "25 . Secret Vampire: Book 1 (Night World) - $ 240.0\n",
            "26 . Gone Girl - $ 227.0\n",
            "27 . Stranger in the Mirror - $ 215.0\n",
            "28 . Brida - $ 245.0\n",
            "29 . The Doomsday Conspiracy - $ 225.0\n"
          ]
        }
      ]
    }
  ]
}